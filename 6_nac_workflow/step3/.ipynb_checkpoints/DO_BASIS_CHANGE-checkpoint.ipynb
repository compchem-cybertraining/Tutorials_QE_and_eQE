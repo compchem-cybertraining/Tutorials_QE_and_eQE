{
 "cells": [
  {
   "cell_type": "markdown",
   "metadata": {},
   "source": [
    "# DO BASIS CHANGE\n",
    "\n",
    "This file demonstrates how to convert the bunch of the files (overlaps, transition density matrices, and vibronic Hamiltonians in the KS basis) generated in the step2 to vibronic Hamiltonian files in the basis of configuration interaction (CI) functions composed of Slater Determinants (SD)\n",
    "\n",
    "To start, lets import the required modules"
   ]
  },
  {
   "cell_type": "code",
   "execution_count": 1,
   "metadata": {
    "scrolled": true
   },
   "outputs": [
    {
     "name": "stderr",
     "output_type": "stream",
     "text": [
      "/projects/academic/cyberwksp21/Software/Conda/Miniconda3/envs/libra/lib/python3.6/importlib/_bootstrap.py:219: RuntimeWarning: to-Python converter for std::vector<std::vector<int, std::allocator<int> >, std::allocator<std::vector<int, std::allocator<int> > > > already registered; second conversion method ignored.\n",
      "  return f(*args, **kwds)\n",
      "/projects/academic/cyberwksp21/Software/Conda/Miniconda3/envs/libra/lib/python3.6/importlib/_bootstrap.py:219: RuntimeWarning: to-Python converter for boost::python::detail::container_element<std::vector<std::vector<int, std::allocator<int> >, std::allocator<std::vector<int, std::allocator<int> > > >, unsigned long, boost::python::detail::final_vector_derived_policies<std::vector<std::vector<int, std::allocator<int> >, std::allocator<std::vector<int, std::allocator<int> > > >, false> > already registered; second conversion method ignored.\n",
      "  return f(*args, **kwds)\n",
      "/projects/academic/cyberwksp21/Software/Conda/Miniconda3/envs/libra/lib/python3.6/importlib/_bootstrap.py:219: RuntimeWarning: to-Python converter for std::vector<std::vector<float, std::allocator<float> >, std::allocator<std::vector<float, std::allocator<float> > > > already registered; second conversion method ignored.\n",
      "  return f(*args, **kwds)\n",
      "/projects/academic/cyberwksp21/Software/Conda/Miniconda3/envs/libra/lib/python3.6/importlib/_bootstrap.py:219: RuntimeWarning: to-Python converter for boost::python::detail::container_element<std::vector<std::vector<float, std::allocator<float> >, std::allocator<std::vector<float, std::allocator<float> > > >, unsigned long, boost::python::detail::final_vector_derived_policies<std::vector<std::vector<float, std::allocator<float> >, std::allocator<std::vector<float, std::allocator<float> > > >, false> > already registered; second conversion method ignored.\n",
      "  return f(*args, **kwds)\n",
      "/projects/academic/cyberwksp21/Software/Conda/Miniconda3/envs/libra/lib/python3.6/importlib/_bootstrap.py:219: RuntimeWarning: to-Python converter for std::vector<std::vector<double, std::allocator<double> >, std::allocator<std::vector<double, std::allocator<double> > > > already registered; second conversion method ignored.\n",
      "  return f(*args, **kwds)\n",
      "/projects/academic/cyberwksp21/Software/Conda/Miniconda3/envs/libra/lib/python3.6/importlib/_bootstrap.py:219: RuntimeWarning: to-Python converter for boost::python::detail::container_element<std::vector<std::vector<double, std::allocator<double> >, std::allocator<std::vector<double, std::allocator<double> > > >, unsigned long, boost::python::detail::final_vector_derived_policies<std::vector<std::vector<double, std::allocator<double> >, std::allocator<std::vector<double, std::allocator<double> > > >, false> > already registered; second conversion method ignored.\n",
      "  return f(*args, **kwds)\n",
      "/projects/academic/cyberwksp21/Software/Conda/Miniconda3/envs/libra/lib/python3.6/importlib/_bootstrap.py:219: RuntimeWarning: to-Python converter for std::vector<std::vector<std::complex<double>, std::allocator<std::complex<double> > >, std::allocator<std::vector<std::complex<double>, std::allocator<std::complex<double> > > > > already registered; second conversion method ignored.\n",
      "  return f(*args, **kwds)\n",
      "/projects/academic/cyberwksp21/Software/Conda/Miniconda3/envs/libra/lib/python3.6/importlib/_bootstrap.py:219: RuntimeWarning: to-Python converter for boost::python::detail::container_element<std::vector<std::vector<std::complex<double>, std::allocator<std::complex<double> > >, std::allocator<std::vector<std::complex<double>, std::allocator<std::complex<double> > > > >, unsigned long, boost::python::detail::final_vector_derived_policies<std::vector<std::vector<std::complex<double>, std::allocator<std::complex<double> > >, std::allocator<std::vector<std::complex<double>, std::allocator<std::complex<double> > > > >, false> > already registered; second conversion method ignored.\n",
      "  return f(*args, **kwds)\n"
     ]
    }
   ],
   "source": [
    "import os\n",
    "import sys\n",
    "\n",
    "# Fisrt, we add the location of the library to test to the PYTHON path\n",
    "if sys.platform==\"cygwin\":\n",
    "    from cyglibra_core import *\n",
    "elif sys.platform==\"linux\" or sys.platform==\"linux2\":\n",
    "    from liblibra_core import *\n",
    "    \n",
    "\n",
    "from libra_py import hpc_utils\n",
    "from libra_py import data_read\n",
    "from libra_py import data_outs\n",
    "from libra_py import units\n",
    "from libra_py import QE_methods\n",
    "from libra_py.workflows.nbra import step3\n",
    "#import libra_py.workflows.nbra.step2_analysis as step2a\n",
    "\n",
    "#import numpy as np\n",
    "#from matplotlib.mlab import griddata\n",
    "\n",
    "import matplotlib.pyplot as plt   # plots\n",
    "%matplotlib inline \n",
    "\n",
    "plt.rc('axes', titlesize=24)      # fontsize of the axes title\n",
    "plt.rc('axes', labelsize=20)      # fontsize of the x and y labels\n",
    "plt.rc('legend', fontsize=20)     # legend fontsize\n",
    "plt.rc('xtick', labelsize=16)    # fontsize of the tick labels\n",
    "plt.rc('ytick', labelsize=16)    # fontsize of the tick labels\n",
    "\n",
    "plt.rc('figure.subplot', left=0.2)\n",
    "plt.rc('figure.subplot', right=0.95)\n",
    "plt.rc('figure.subplot', bottom=0.13)\n",
    "plt.rc('figure.subplot', top=0.88)\n",
    "\n",
    "colors = {}\n",
    "\n",
    "colors.update({\"11\": \"#8b1a0e\"})  # red       \n",
    "colors.update({\"12\": \"#FF4500\"})  # orangered \n",
    "colors.update({\"13\": \"#B22222\"})  # firebrick \n",
    "colors.update({\"14\": \"#DC143C\"})  # crimson   \n",
    "\n",
    "colors.update({\"21\": \"#5e9c36\"})  # green\n",
    "colors.update({\"22\": \"#006400\"})  # darkgreen  \n",
    "colors.update({\"23\": \"#228B22\"})  # forestgreen\n",
    "colors.update({\"24\": \"#808000\"})  # olive      \n",
    "\n",
    "colors.update({\"31\": \"#8A2BE2\"})  # blueviolet\n",
    "colors.update({\"32\": \"#00008B\"})  # darkblue  \n",
    "\n",
    "colors.update({\"41\": \"#2F4F4F\"})  # darkslategray\n",
    "\n",
    "clrs_index = [\"11\", \"21\", \"31\", \"41\", \"12\", \"22\", \"32\", \"13\",\"23\", \"14\", \"24\"]"
   ]
  },
  {
   "cell_type": "markdown",
   "metadata": {},
   "source": [
    "Lets read in the files\n",
    "\n",
    "In my case, the files contain 40 x 40 matrices, which are composed of 20 x 20 blocks of alpha and beta orbitals.\n",
    "\n",
    "\n",
    "There are 56 electrons, meaning there are 28 alpha and 28 beta electrons, which means that original orbital 28 would be alpha-spin HOMO.\n",
    "\n",
    "Because in the step2, we run it as:\n",
    "\n",
    "```\n",
    "params[\\\"minband\\\"] = 20\n",
    "params[\\\"maxband\\\"] = 39\n",
    "```\n",
    "\n",
    "The count is delayed by 20, meaning the first 20 x 20 block contain alpha orbitals starting from 20. \n",
    "\n",
    "That is position 0 contains KS 20, \n",
    "\n",
    "        position 1 contains KS 21,\n",
    "        \n",
    "        ...\n",
    "        \n",
    "        position 7 contains KS 28 (alpha HOMO)\n",
    "        \n",
    "\n",
    "So, considering the way step2 was computed, the alpha HOMO corresponds to the actives space index of 28 - 20 - 1 = 7 \n",
    "\n",
    "Assume we only need HOMO-1, HOMO, LUMO and LUMO+1 alpha-spin orbitals, so we can define this by setting the \"active_space\" parameter to the list \\[6, 7, 8, 9\\]\n"
   ]
  },
  {
   "cell_type": "code",
   "execution_count": 2,
   "metadata": {},
   "outputs": [
    {
     "name": "stdout",
     "output_type": "stream",
     "text": [
      "Help on function get_data_sets in module libra_py.data_read:\n",
      "\n",
      "get_data_sets(params)\n",
      "    Reads several sets of data files \n",
      "    \n",
      "    Args:\n",
      "        params ( dictionary ): parameters controlling the function execution [Required!]\n",
      "    \n",
      "            Required parameter keys:\n",
      "    \n",
      "            * **params[\"data_set_paths\"]** ( list of strings ):\n",
      "                define the paths of the directories where the data files for\n",
      "                different data sets (e.g. independent MD trajectories) are located. \n",
      "            .. note::\n",
      "                In addition, requires parameters described in\n",
      "                :func:`get_data`\n",
      "    \n",
      "    Returns:\n",
      "        list of lists of CMATRIX: data: \n",
      "            the time series of Hvib matrices for several data sets, such that\n",
      "            data[idata][time] is a CMATRIX for the data set indexed by `idata`\n",
      "            at time `time`\n",
      "    \n",
      "    \n",
      "    Example:\n",
      "        The full name of the vibronic Hamiltonian files read by this module should be:\n",
      "    \n",
      "        params[\"data_set_paths\"][idata]+params[\"data_re_prefix\"]+integer(time step)+params[\"data_re_suffix\"] - for real part\n",
      "    \n",
      "        params[\"data_set_paths\"][idata]+params[\"data_im_prefix\"]+integer(time step)+params[\"data_im_suffix\"] - for imaginary part\n",
      "    \n",
      "        Say, the directory \"/home/alexeyak/test/step3/res0\" contains files:\n",
      "        Hvib_0_re, Hvib_1_re, .... ,    Hvib_999_re\n",
      "        Hvib_0_im, Hvib_1_im, .... ,    Hvib_999_im\n",
      "    \n",
      "        Then set:\n",
      "    \n",
      "        >>> params[\"data_set_paths\"] = [\"/home/alexeyak/test/step3/res0/\"]\n",
      "        >>> params[\"data_re_prefix\"] = \"Hvib_\"\n",
      "        >>> params[\"data_re_suffix\"] = \"_re\"\n",
      "        >>> params[\"data_im_prefix\"] = \"Hvib_\"\n",
      "        >>> params[\"data_im_suffix\"] = \"_im\"\n",
      "\n"
     ]
    }
   ],
   "source": [
    "help(data_read.get_data_sets)"
   ]
  },
  {
   "cell_type": "code",
   "execution_count": 3,
   "metadata": {},
   "outputs": [],
   "source": [
    "params = { \"data_set_paths\" : [os.getcwd()+\"/traj1_in/\"],\n",
    "           \"data_dim\":40, \"active_space\":list( range(0,40)),\n",
    "           \"isnap\":0,  \"fsnap\":29,         \n",
    "           \"data_re_prefix\" : \"S_dia_ks_\", \"data_re_suffix\" : \"_re\",\n",
    "           \"data_im_prefix\" : \"S_dia_ks_\", \"data_im_suffix\" : \"_im\"  }\n",
    "S = data_read.get_data_sets(params)\n",
    "\n",
    "params.update({ \"data_re_prefix\" : \"St_dia_ks_\", \"data_re_suffix\" : \"_re\",\n",
    "                \"data_im_prefix\" : \"St_dia_ks_\", \"data_im_suffix\" : \"_im\"  } ) \n",
    "St = data_read.get_data_sets(params)\n",
    "\n",
    "params.update({ \"data_re_prefix\" : \"hvib_dia_\", \"data_re_suffix\" : \"_re\",\n",
    "                \"data_im_prefix\" : \"hvib_dia_\", \"data_im_suffix\" : \"_im\"  } ) \n",
    "Hvib_ks = data_read.get_data_sets(params)"
   ]
  },
  {
   "cell_type": "code",
   "execution_count": 4,
   "metadata": {},
   "outputs": [
    {
     "name": "stdout",
     "output_type": "stream",
     "text": [
      "29\n"
     ]
    }
   ],
   "source": [
    "print(len(St[0]))"
   ]
  },
  {
   "cell_type": "markdown",
   "metadata": {},
   "source": [
    "Prepare the folder for the final results"
   ]
  },
  {
   "cell_type": "code",
   "execution_count": 5,
   "metadata": {},
   "outputs": [
    {
     "data": {
      "text/plain": [
       "0"
      ]
     },
     "execution_count": 5,
     "metadata": {},
     "output_type": "execute_result"
    }
   ],
   "source": [
    "# Remove the previous results and temporary working directory from the previous runs\n",
    "os.system(\"rm -r traj1_out\")\n",
    "\n",
    "# Create the new results directory\n",
    "os.system(\"mkdir traj1_out\")"
   ]
  },
  {
   "cell_type": "markdown",
   "metadata": {},
   "source": [
    "Setup the parameters for the SD construction and for the construction of their superpositions\n",
    "\n",
    "In the above definition, we have included only HOMO-1, HOMO, LUMO and LUMO+1 orbitals in the calculations. They shall have 4 electrons on them, so the entries defining the SD basis will all contain 4 numbers. Note that the lowest number is 1, not 0.\n",
    "\n",
    "We will include only 3 SD states: a) GS (just 2 orbitals are occupied), b) HOMO -> LUMO, and c) HOMO -> LUMO+1 transitions with the beta electrons.\n",
    "\n",
    "We will not add any enery corrections to the resulting SDs.\n",
    "\n",
    "Also, here we'll use the simplest CIs - those that contain only one of each defined SDs (the Pyxaid-style states)"
   ]
  },
  {
   "cell_type": "code",
   "execution_count": 6,
   "metadata": {},
   "outputs": [
    {
     "name": "stdout",
     "output_type": "stream",
     "text": [
      "Help on function run in module libra_py.workflows.nbra.step3:\n",
      "\n",
      "run(S_dia_ks, St_dia_ks, E_dia_ks, params)\n",
      "    The procedure to converts the results of QE calculations (KS orbital energies and\n",
      "    time-overlaps = transition density matrices in the KS basis) to the generic Hvib matrices, \n",
      "    which (optionally) account for:   \n",
      "    \n",
      "    - enforces orthogonalization of the input KS states\n",
      "    - state reordering\n",
      "    - phase corrections\n",
      "    - multi-electron wavefunction (Slater determinants) and spin-adaptation\n",
      "    \n",
      "    Args:\n",
      "        S_dia_ks ( list of lists of CMATRIX objects ): overlaps of the KS orbitals along trajectories\n",
      "            for each data set. Such that S_dia_ks[idata][istep].get(i,j) is <i(istep)|j(istep)> for the \n",
      "            trajectory (=dataset) ```idata```.\n",
      "    \n",
      "        St_dia_ks ( list of lists of CMATRIX objects ): time-overlaps (=transition density matrices) \n",
      "            in the basis of the KS orbitals along trajectories for each data set. \n",
      "            Such that St_dia_ks[idata][istep].get(i,j) is <i(istep)|j(istep+1)> for the trajectory (=dataset) ```idata```.\n",
      "    \n",
      "        E_dia_ks ( list of lists of CMATRIX objects ): energies the KS orbitals at the mid-points along trajectories\n",
      "            for each data set. Such that E_dia_ks[idata][istep].get(i,i) is 0.5*(E_i(istep) + E_i(istep+1)) for the \n",
      "            trajectory (=dataset) ```idata```\n",
      "    \n",
      "        params ( dictionary ): Control paramerter of this type of simulation. Can include the follwing keys:\n",
      "    \n",
      "            * **params[\"SD_basis\"]** ( list of lists of ints ): define the Slater Determinants basis\n",
      "                The convention is:  params[\"SD_basis\"][iSD][iks] is the indicator of the spin-orbital occupied by \n",
      "                the electron iks in the Slater Determinant iSD [required!]\n",
      "    \n",
      "                Example: \n",
      "    \n",
      "                    The following example defines a ground state SD (the lowest KS of the active space) and two \n",
      "                    single excitations, which are different from each other by two spin flips of the electrons\n",
      "                    The convention is to start indexing from 1 (corresponds to index 0 in the KS matrices)\n",
      "                    Positive - for alpha electrons, negative - for beta electrons\n",
      "                    Need to be consistent: [ -1, 2 ] and [ 2, -1 ] are treated differently, this is needed for spin-adaptation\n",
      "    \n",
      "                    >> params[\"SD_basis\"] = [ [ 1,-1 ], [ 1,-2 ], [ 2,-1 ] ]\n",
      "    \n",
      "                    The next example is for a system of 4 electrons and hole excitations\n",
      "                    >> params[\"SD_basis\"] = [ [ 1,-1, 2, -2 ], [ 3, -1, 2, -2 ], [ 1, -3, 2, -2 ] ]\n",
      "    \n",
      "    \n",
      "            * **params[\"SD_energy_corr\"]** ( list of doubles ): define corrections of the SD state energies in comparison to \n",
      "                the energy give by the sum energies of the occupied spin-orbitals.\n",
      "                The convention is: params[\"SD_energy_corr\"][iSD] is the correction to energy of the SD with index iSD. \n",
      "                This is a constant correction - same for all energies in the set [units: Ha] [required!]\n",
      "    \n",
      "                Example:\n",
      "                    For instance, for the SD examples above, the corrections could be:\n",
      "                    >> params[\"SD\"] = [0.0, 0.01, 0.05]\n",
      "                                     \n",
      "            * **params[\"CI_basis\"]** ( list of lists of complex number ): configuration interaction coefficients \n",
      "                that define a superpositions to SDs that are considered the states of interest, e.g. spin-adapted configurations\n",
      "                The convention is: params[\"CI_basis\"][iCI][iSD] is a coefficient of ```iSD```-th SD in the expansion of the CI\n",
      "                with index ```iCI```. These coefficients don't have to account for the overal CI's normalization - the \n",
      "                normalization will be done on the go. [required!]\n",
      "    \n",
      "                Example:\n",
      "    \n",
      "                    For the SD example above we can construct the following combinations:\n",
      "                    >> params[\"CI_basis\"] = [ [1.0, 0.0, 0.0 ], \n",
      "                                              [0.0, 1.0,-1.0 ],\n",
      "                                              [0.0, 1.0, 1.0 ] \n",
      "                                            ]\n",
      "    \n",
      "            * **params[\"output_set_paths\"]** ( list of strings ): the directory pathes where the resulting files \n",
      "                are to be written (if so!). If you don't plan on writing the files, just provide a list of empty strings\n",
      "                or whatever else - they will not be used in that case. The number of the strings should be equal to \n",
      "                the number of the input data sets, e.g. to len(St_dia_ks)  [required!]\n",
      "    \n",
      "                  \n",
      "            * **params[\"dt\"]** ( double ): nuclear dynamics integration time step [units: a.u. of time, default: 41.0]\n",
      "    \n",
      "            * **params[\"do_orthogonalization\"]** ( int ): the option to do Lowdin orthogonalization of the orbitals - using \n",
      "                the \"raw\" overlaps (at the same time). This option is needed because the wavefunction output by QE are \n",
      "                not exactly orthonormal (because of the use of pseudopotentials). So before we use them (implicitly) \n",
      "                in the rest of the calculations here, we may need to account for this non-ideality effect.\n",
      "                Options:\n",
      "        \n",
      "                - 0: don't do the orthogonalization - this is the same as in Pyxaid [default]\n",
      "                - 1: do the orthogonalization\n",
      "    \n",
      "            * **params[\"do_state_reordering\"]** ( int ): the option to control the state reordering\n",
      "                Options:\n",
      "    \n",
      "                - 0: no state reordering - same as in Pyxaid\n",
      "                - 1: older method (is not robust, may or may not work) \n",
      "                - 2: Hungarian algorithm [default]\n",
      "    \n",
      "            * **params[\"state_reordering_alpha\"]** ( double ): the parameter that controls the width of \n",
      "                the energy interval within wich the state reordering is in effect. Zero value means all \n",
      "                available orbitals, larger positive value decreases the width of the window. This parameter\n",
      "                is not in effect unless the Hungarian algorithm is selected [default: 0.0]\n",
      "    \n",
      "            * **params[\"do_phase_correction\"]** ( int ): option to do the phase correction\n",
      "    \n",
      "                - 0 - don't do \n",
      "                - 1 - do it [default]\n",
      "    \n",
      "            * **params[\"do_output\"]** ( int ): whether to print out the Hvib matrices ( = 1) to the files or not ( = 0).\n",
      "    \n",
      "            * **params[\"Hvib_re_prefix\"]** ( string ): common prefix of the output files with real part of the vibronic \n",
      "                Hamiltonian at all times [default: \"Hvib_\"]\n",
      "    \n",
      "            * **params[\"Hvib_re_suffix\"]** ( string ): common suffix of the output files with real part of the vibronic \n",
      "                Hamiltonian at all times [default: \"_re\"]\n",
      "    \n",
      "            * **params[\"Hvib_im_prefix\"]** ( string ): common prefix of the output files with imaginary part of the vibronic \n",
      "                Hamiltonian at all times [default: \"Hvib_\"]\n",
      "    \n",
      "            * **params[\"Hvib_im_suffix\"]** ( string ): common suffix of the output files with imaginary part of the vibronic \n",
      "                Hamiltonian at all times [default: \"_im\"]\n",
      "    \n",
      "    Returns:\n",
      "        list of lists of CMATRIX(N,N): Hvib, such that:\n",
      "            Hvib[idata][istep] is a CMATRIX(N,N) containing the vibronic Hamiltonian for the \n",
      "            trajectory (dataset) ```idata``` and for the timestep ```istep```. Here, N is the number\n",
      "            of states included in the active space.\n",
      "\n"
     ]
    }
   ],
   "source": [
    "help(step3.run)"
   ]
  },
  {
   "cell_type": "code",
   "execution_count": 8,
   "metadata": {},
   "outputs": [],
   "source": [
    "params = { \"SD_basis\" : [ [ 7,  8, -27, -28], [7, 8, -27, -29], [7, 8, -27, -30]  ],\n",
    "           \"SD_energy_corr\" : [0.0, 0.0, 0.0],\n",
    "           \"CI_basis\" : [ [1.0, 0.0, 0.0],\n",
    "                          [0.0, 1.0, 0.0],\n",
    "                          [0.0, 0.0, 1.0]\n",
    "                        ],\n",
    "          \"output_set_paths\" : [os.getcwd()+\"/traj1_out/\"], \n",
    "          \"dt\" : 1.0*units.fs2au,\n",
    "          \"do_orthogonalization\":1,\n",
    "          \"do_state_reordering\":2,\n",
    "          \"do_phase_correction\":1,\n",
    "          \"do_output\" : 1,\n",
    "          \"Hvib_re_prefix\":\"Hvib_\",  \"Hvib_re_suffix\":\"_re\",\n",
    "          \"Hvib_im_prefix\":\"Hvib_\",  \"Hvib_im_suffix\":\"_im\"\n",
    "         }\n",
    "\n",
    "Hvib = step3.run(S, St, Hvib_ks, params)"
   ]
  },
  {
   "cell_type": "markdown",
   "metadata": {},
   "source": [
    "## Alternative convention "
   ]
  },
  {
   "cell_type": "code",
   "execution_count": 9,
   "metadata": {},
   "outputs": [],
   "source": [
    "params = { \"data_set_paths\" : [os.getcwd()+\"/traj1_in/\"],\n",
    "           \"data_dim\":40, \"active_space\":[6, 7, 8, 9, 26, 27, 28, 29],\n",
    "           \"isnap\":0,  \"fsnap\":29,         \n",
    "           \"data_re_prefix\" : \"S_dia_ks_\", \"data_re_suffix\" : \"_re\",\n",
    "           \"data_im_prefix\" : \"S_dia_ks_\", \"data_im_suffix\" : \"_im\"  }\n",
    "S = data_read.get_data_sets(params)\n",
    "\n",
    "params.update({ \"data_re_prefix\" : \"St_dia_ks_\", \"data_re_suffix\" : \"_re\",\n",
    "                \"data_im_prefix\" : \"St_dia_ks_\", \"data_im_suffix\" : \"_im\"  } ) \n",
    "St = data_read.get_data_sets(params)\n",
    "\n",
    "params.update({ \"data_re_prefix\" : \"hvib_dia_\", \"data_re_suffix\" : \"_re\",\n",
    "                \"data_im_prefix\" : \"hvib_dia_\", \"data_im_suffix\" : \"_im\"  } ) \n",
    "Hvib_ks = data_read.get_data_sets(params)"
   ]
  },
  {
   "cell_type": "code",
   "execution_count": 10,
   "metadata": {},
   "outputs": [
    {
     "data": {
      "text/plain": [
       "0"
      ]
     },
     "execution_count": 10,
     "metadata": {},
     "output_type": "execute_result"
    }
   ],
   "source": [
    "# Remove the previous results and temporary working directory from the previous runs\n",
    "os.system(\"rm -r traj2_out\")\n",
    "\n",
    "# Create the new results directory\n",
    "os.system(\"mkdir traj2_out\")"
   ]
  },
  {
   "cell_type": "code",
   "execution_count": 11,
   "metadata": {},
   "outputs": [],
   "source": [
    "params = { \"SD_basis\" : [ [ 1,  2, -5, -6], [1, 2, -5, -7], [1, 2, -5, -8]  ],\n",
    "           \"SD_energy_corr\" : [0.0, 0.0, 0.0],\n",
    "           \"CI_basis\" : [ [1.0, 0.0, 0.0],\n",
    "                          [0.0, 1.0, 0.0],\n",
    "                          [0.0, 0.0, 1.0]\n",
    "                        ],\n",
    "          \"output_set_paths\" : [os.getcwd()+\"/traj2_out/\"], \n",
    "          \"dt\" : 1.0*units.fs2au,\n",
    "          \"do_orthogonalization\":1,\n",
    "          \"do_state_reordering\":2,\n",
    "          \"do_phase_correction\":1,\n",
    "          \"do_output\" : 1,\n",
    "          \"Hvib_re_prefix\":\"Hvib_\",  \"Hvib_re_suffix\":\"_re\",\n",
    "          \"Hvib_im_prefix\":\"Hvib_\",  \"Hvib_im_suffix\":\"_im\"\n",
    "         }\n",
    "\n",
    "Hvib = step3.run(S, St, Hvib_ks, params)"
   ]
  },
  {
   "cell_type": "markdown",
   "metadata": {},
   "source": [
    "Compare the content of the the two folders:\n",
    "\n",
    "    os.system(\"diff traj1_out/Hvib_0_im traj2_out/Hvib_0_im\")"
   ]
  },
  {
   "cell_type": "code",
   "execution_count": null,
   "metadata": {},
   "outputs": [],
   "source": []
  }
 ],
 "metadata": {
  "kernelspec": {
   "display_name": "Python 3.6 (libra-latest)",
   "language": "python",
   "name": "libra-plus"
  },
  "language_info": {
   "codemirror_mode": {
    "name": "ipython",
    "version": 3
   },
   "file_extension": ".py",
   "mimetype": "text/x-python",
   "name": "python",
   "nbconvert_exporter": "python",
   "pygments_lexer": "ipython3",
   "version": "3.6.13"
  }
 },
 "nbformat": 4,
 "nbformat_minor": 2
}
