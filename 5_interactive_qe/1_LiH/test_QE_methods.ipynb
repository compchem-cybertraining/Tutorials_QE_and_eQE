{
 "cells": [
  {
   "cell_type": "markdown",
   "metadata": {},
   "source": [
    "## QE methods and QE_utils\n",
    "\n",
    "In this tutorial, we will explore various methods needed to handle Quantum Espresso (QE) calculations - to run them, prepare input, and extract output. All that will be done with the help of the **QE_methods** and **QE_utils** modules, which contains the following functions:\n",
    "\n",
    "**QE_methods**\n",
    "* cryst2cart(a1,a2,a3,r)\n",
    "* [Topic 2](#topic-2) read_qe_schema(filename, verbose=0)\n",
    "* [Topic 3](#topic-3) read_qe_index(filename, orb_list, verbose=0)\n",
    "* [Topic 4](#topic-4) read_qe_wfc_info(filename, verbose=0)\n",
    "* [Topic 9](#topic-9) read_qe_wfc_grid(filename, verbose=0)\n",
    "* [Topic 5](#topic-5) read_qe_wfc(filename, orb_list, verbose=0)\n",
    "* read_md_data(filename)\n",
    "* read_md_data_xyz(filename, PT, dt)\n",
    "* read_md_data_xyz2(filename, PT)   \n",
    "* read_md_data_cell(filename)\n",
    "* out2inp(out_filename,templ_filename,wd,prefix,t0,tmax,dt)\n",
    "* out2pdb(out_filename,T,dt,pdb_prefix)\n",
    "* out2xyz(out_filename,T,dt,xyz_filename)\n",
    "* xyz2inp(out_filename,templ_filename,wd,prefix,t0,tmax,dt)\n",
    "* get_QE_normal_modes(filename, verbosity=0)\n",
    "* [Topic 1](#topic-1) run_qe(params, t, dirname0, dirname1)                         \n",
    "* read_info(params)\n",
    "* read_all(params)\n",
    "* read_wfc_grid(params)\n",
    "\n",
    "**QE_utils**\n",
    "* get_value(params,key,default,typ)\n",
    "* split_orbitals_energies(C, E)\n",
    "* [Topic 7](#topic-7) merge_orbitals(Ca, Cb)\n",
    "* post_process(coeff, ene, issoc)\n",
    "* [Topic 6](#topic-6) orthogonalize_orbitals(C)\n",
    "* [Topic 8](#topic-8) orthogonalize_orbitals2(Ca,Cb)"
   ]
  },
  {
   "cell_type": "code",
   "execution_count": 1,
   "metadata": {},
   "outputs": [
    {
     "name": "stderr",
     "output_type": "stream",
     "text": [
      "/projects/academic/cyberwksp21/Software/Conda/Miniconda3/envs/libra/lib/python3.6/importlib/_bootstrap.py:219: RuntimeWarning: to-Python converter for std::vector<std::vector<int, std::allocator<int> >, std::allocator<std::vector<int, std::allocator<int> > > > already registered; second conversion method ignored.\n",
      "  return f(*args, **kwds)\n",
      "/projects/academic/cyberwksp21/Software/Conda/Miniconda3/envs/libra/lib/python3.6/importlib/_bootstrap.py:219: RuntimeWarning: to-Python converter for boost::python::detail::container_element<std::vector<std::vector<int, std::allocator<int> >, std::allocator<std::vector<int, std::allocator<int> > > >, unsigned long, boost::python::detail::final_vector_derived_policies<std::vector<std::vector<int, std::allocator<int> >, std::allocator<std::vector<int, std::allocator<int> > > >, false> > already registered; second conversion method ignored.\n",
      "  return f(*args, **kwds)\n",
      "/projects/academic/cyberwksp21/Software/Conda/Miniconda3/envs/libra/lib/python3.6/importlib/_bootstrap.py:219: RuntimeWarning: to-Python converter for std::vector<std::vector<float, std::allocator<float> >, std::allocator<std::vector<float, std::allocator<float> > > > already registered; second conversion method ignored.\n",
      "  return f(*args, **kwds)\n",
      "/projects/academic/cyberwksp21/Software/Conda/Miniconda3/envs/libra/lib/python3.6/importlib/_bootstrap.py:219: RuntimeWarning: to-Python converter for boost::python::detail::container_element<std::vector<std::vector<float, std::allocator<float> >, std::allocator<std::vector<float, std::allocator<float> > > >, unsigned long, boost::python::detail::final_vector_derived_policies<std::vector<std::vector<float, std::allocator<float> >, std::allocator<std::vector<float, std::allocator<float> > > >, false> > already registered; second conversion method ignored.\n",
      "  return f(*args, **kwds)\n",
      "/projects/academic/cyberwksp21/Software/Conda/Miniconda3/envs/libra/lib/python3.6/importlib/_bootstrap.py:219: RuntimeWarning: to-Python converter for std::vector<std::vector<double, std::allocator<double> >, std::allocator<std::vector<double, std::allocator<double> > > > already registered; second conversion method ignored.\n",
      "  return f(*args, **kwds)\n",
      "/projects/academic/cyberwksp21/Software/Conda/Miniconda3/envs/libra/lib/python3.6/importlib/_bootstrap.py:219: RuntimeWarning: to-Python converter for boost::python::detail::container_element<std::vector<std::vector<double, std::allocator<double> >, std::allocator<std::vector<double, std::allocator<double> > > >, unsigned long, boost::python::detail::final_vector_derived_policies<std::vector<std::vector<double, std::allocator<double> >, std::allocator<std::vector<double, std::allocator<double> > > >, false> > already registered; second conversion method ignored.\n",
      "  return f(*args, **kwds)\n",
      "/projects/academic/cyberwksp21/Software/Conda/Miniconda3/envs/libra/lib/python3.6/importlib/_bootstrap.py:219: RuntimeWarning: to-Python converter for std::vector<std::vector<std::complex<double>, std::allocator<std::complex<double> > >, std::allocator<std::vector<std::complex<double>, std::allocator<std::complex<double> > > > > already registered; second conversion method ignored.\n",
      "  return f(*args, **kwds)\n",
      "/projects/academic/cyberwksp21/Software/Conda/Miniconda3/envs/libra/lib/python3.6/importlib/_bootstrap.py:219: RuntimeWarning: to-Python converter for boost::python::detail::container_element<std::vector<std::vector<std::complex<double>, std::allocator<std::complex<double> > >, std::allocator<std::vector<std::complex<double>, std::allocator<std::complex<double> > > > >, unsigned long, boost::python::detail::final_vector_derived_policies<std::vector<std::vector<std::complex<double>, std::allocator<std::complex<double> > >, std::allocator<std::vector<std::complex<double>, std::allocator<std::complex<double> > > > >, false> > already registered; second conversion method ignored.\n",
      "  return f(*args, **kwds)\n"
     ]
    }
   ],
   "source": [
    "import os\n",
    "import sys\n",
    "import math\n",
    "import copy\n",
    "\n",
    "if sys.platform==\"cygwin\":\n",
    "    from cyglibra_core import *\n",
    "elif sys.platform==\"linux\" or sys.platform==\"linux2\":\n",
    "    from liblibra_core import *\n",
    "#from libra_py import *\n",
    "from libra_py import units\n",
    "from libra_py import QE_methods\n",
    "from libra_py import QE_utils\n",
    "from libra_py import scan\n",
    "\n",
    "from libra_py import hpc_utils\n",
    "from libra_py import data_read\n",
    "from libra_py import data_outs\n",
    "from libra_py import data_conv\n",
    "from libra_py.workflows.nbra import step2\n",
    "\n",
    "\n",
    "import py3Dmol   # molecular visualization\n",
    "import matplotlib.pyplot as plt   # plots\n",
    "%matplotlib inline \n",
    "\n",
    "plt.rc('axes', titlesize=24)      # fontsize of the axes title\n",
    "plt.rc('axes', labelsize=20)      # fontsize of the x and y labels\n",
    "plt.rc('legend', fontsize=20)     # legend fontsize\n",
    "plt.rc('xtick', labelsize=16)    # fontsize of the tick labels\n",
    "plt.rc('ytick', labelsize=16)    # fontsize of the tick labels\n",
    "\n",
    "plt.rc('figure.subplot', left=0.2)\n",
    "plt.rc('figure.subplot', right=0.95)\n",
    "plt.rc('figure.subplot', bottom=0.13)\n",
    "plt.rc('figure.subplot', top=0.88)\n",
    "\n",
    "colors = {}\n",
    "\n",
    "colors.update({\"11\": \"#8b1a0e\"})  # red       \n",
    "colors.update({\"12\": \"#FF4500\"})  # orangered \n",
    "colors.update({\"13\": \"#B22222\"})  # firebrick \n",
    "colors.update({\"14\": \"#DC143C\"})  # crimson   \n",
    "\n",
    "colors.update({\"21\": \"#5e9c36\"})  # green\n",
    "colors.update({\"22\": \"#006400\"})  # darkgreen  \n",
    "colors.update({\"23\": \"#228B22\"})  # forestgreen\n",
    "colors.update({\"24\": \"#808000\"})  # olive      \n",
    "\n",
    "colors.update({\"31\": \"#8A2BE2\"})  # blueviolet\n",
    "colors.update({\"32\": \"#00008B\"})  # darkblue  \n",
    "\n",
    "colors.update({\"41\": \"#2F4F4F\"})  # darkslategray\n",
    "\n",
    "clrs_index = [\"11\", \"21\", \"31\", \"41\", \"12\", \"22\", \"32\", \"13\",\"23\", \"14\", \"24\"]"
   ]
  },
  {
   "cell_type": "markdown",
   "metadata": {},
   "source": [
    "First, lets prepare the working directories and run simple SCF calculations to generate the output files"
   ]
  },
  {
   "cell_type": "code",
   "execution_count": 6,
   "metadata": {},
   "outputs": [
    {
     "name": "stdout",
     "output_type": "stream",
     "text": [
      "/util/academic/espresso/6.2.1/bin\n"
     ]
    }
   ],
   "source": [
    "PWSCF = os.environ['PWSCF62']"
   ]
  },
  {
   "cell_type": "code",
   "execution_count": 7,
   "metadata": {},
   "outputs": [
    {
     "ename": "NameError",
     "evalue": "name 'PWSCF' is not defined",
     "output_type": "error",
     "traceback": [
      "\u001b[0;31m---------------------------------------------------------------------------\u001b[0m",
      "\u001b[0;31mNameError\u001b[0m                                 Traceback (most recent call last)",
      "\u001b[0;32m<ipython-input-7-749b73a286e5>\u001b[0m in \u001b[0;36m<module>\u001b[0;34m\u001b[0m\n\u001b[1;32m      9\u001b[0m \u001b[0;34m\u001b[0m\u001b[0m\n\u001b[1;32m     10\u001b[0m \u001b[0;31m# The QE executable\u001b[0m\u001b[0;34m\u001b[0m\u001b[0;34m\u001b[0m\u001b[0;34m\u001b[0m\u001b[0m\n\u001b[0;32m---> 11\u001b[0;31m \u001b[0mparams\u001b[0m\u001b[0;34m[\u001b[0m\u001b[0;34m\"EXE\"\u001b[0m\u001b[0;34m]\u001b[0m \u001b[0;34m=\u001b[0m \u001b[0;34mF\"{PWSCF}/pw.x\"\u001b[0m\u001b[0;34m\u001b[0m\u001b[0;34m\u001b[0m\u001b[0m\n\u001b[0m\u001b[1;32m     12\u001b[0m \u001b[0;34m\u001b[0m\u001b[0m\n\u001b[1;32m     13\u001b[0m \u001b[0;31m# The executable to generate the wavefunction files\u001b[0m\u001b[0;34m\u001b[0m\u001b[0;34m\u001b[0m\u001b[0;34m\u001b[0m\u001b[0m\n",
      "\u001b[0;31mNameError\u001b[0m: name 'PWSCF' is not defined"
     ]
    }
   ],
   "source": [
    "# Setup the calculations\n",
    "params = {}\n",
    "\n",
    "# I run the calculations on laptop, so no BATCH system\n",
    "params[\"BATCH_SYSTEM\"] = None\n",
    "\n",
    "# The number of processors to use\n",
    "params[\"NP\"] = 1\n",
    "\n",
    "# The QE executable\n",
    "params[\"EXE\"] = F\"{PWSCF}/pw.x\"\n",
    "\n",
    "# The executable to generate the wavefunction files\n",
    "params[\"EXE_EXPORT\"] = F\"{PWSCF}/pw_export.x\" #\"/mnt/c/cygwin/home/Alexey-user/Soft/espresso/bin/pw_export.x\"\n",
    "\n",
    "# The type of the calculations to be performed - in this case only a single SCF with spin-polarization\n",
    "params[\"nac_method\"] = 1\n",
    "    \n",
    "# The prefix of the input file\n",
    "params[\"prefix0\"] = \"x0.scf\" \n",
    "\n",
    "# Working directory - where all stuff happen\n",
    "params[\"wd\"] = os.getcwd()+\"/wd\"\n",
    "\n",
    "\n",
    "# Remove the previous results and temporary working directory from the previous runs\n",
    "os.system(F\"rm -r {params['wd']}\")\n",
    "os.system(F\"mkdir {params['wd']}\")\n",
    "\n",
    "# Copy the input files into the working directory\n",
    "# also, notice how the SCF input file name has been changed\n",
    "os.system(F\"cp x0.scf.in {params['wd']}/x0.scf.0.in\")\n",
    "os.system(F\"cp x0.exp.in {params['wd']}\")\n",
    "os.system(F\"cp Li.pbe-sl-kjpaw_psl.1.0.0.UPF {params['wd']}\")\n",
    "os.system(F\"cp H.pbe-rrkjus_psl.1.0.0.UPF {params['wd']}\")\n"
   ]
  },
  {
   "cell_type": "markdown",
   "metadata": {},
   "source": [
    "<a name=\"topic-1\"></a>\n",
    "### 1. run_qe(params, t, dirname0, dirname1)\n",
    "\n",
    "\n",
    "Use it to actually run the calculations\n",
    "\n",
    "Comment this out if you have already done the calculations"
   ]
  },
  {
   "cell_type": "code",
   "execution_count": 9,
   "metadata": {},
   "outputs": [
    {
     "name": "stdout",
     "output_type": "stream",
     "text": [
      "Help on function run_qe in module libra_py.QE_methods:\n",
      "\n",
      "run_qe(params, t, dirname0, dirname1)\n",
      "    This function runs necessary QE calculations as defined by the \"params\" dictionary\n",
      "    \n",
      "    Args:\n",
      "        params ( dictionary ): A dictionary containing important simulation parameters\n",
      "    \n",
      "            * **params[\"BATCH_SYSTEM\"]** ( string ): the name of the job submission command\n",
      "                use \"srun\" if run calculations on SLURM system or \"mpirun\" if run on PBS system\n",
      "                [default: \"srun\"]\n",
      "            * **params[\"NP\"]** ( int ): the number of nodes on which execute calculations\n",
      "                [default: 1]\n",
      "            * **params[\"EXE\"]** ( string ): the name of the program to be executed. This may be \n",
      "                the absolute path to the QE (pw.x) binary\n",
      "            * **params[\"EXE_EXPORT\"]** ( string ): the name of the program that converts the binary files\n",
      "                with the QE wavefunctions to the text format (pw_export.x). The name includes the \n",
      "                absolute path to the binary\n",
      "            * **params[\"prefix0\"]** ( string ): the name of scf template input file - it should \n",
      "                contain all the parameters controlling the computational methodology for QE.\n",
      "                If the file is called \"x0.scf.in\", use \"x0.scf\" as the value of the \"prefix0\"\n",
      "                [default: \"x0.scf\"]\n",
      "            * **params[\"prefix1\"]** ( string ): the name of scf template input file - it should \n",
      "                contain all the parameters controlling the computational methodology for QE.\n",
      "                Presently is used for SOC-enabled calculations, whereas the \"prefix0\" defines the\n",
      "                no-SOC calculations. If the file is called \"x1.scf.in\", use \"x1.scf\" as the value\n",
      "                of the \"prefix1\" [default: \"x1.scf\"]\n",
      "            * **params[\"nac_method\"]** ( int ): selects the type of calculations to perform:\n",
      "    \n",
      "                - 0 : non-spin-polarized calculations (needs only \"prefix0\")\n",
      "                - 1 : spin-polarized calculations (needs only \"prefix0\")\n",
      "                - 2 : non-collinear calculation (SOC) only (needs only \"prefix1\")\n",
      "                - 3 : spin-polarized and non-collinear calculation (SOC) (needs both \"prefix0\" and \"prefix1\")\n",
      "    \n",
      "                [default: 0]\n",
      "    \n",
      "            * **params[\"wd\"]** ( string ): the name of a \"working directory (can be removed once the calculatons\n",
      "                are done)\" that will be created during this function execution.\n",
      "    \n",
      "        t ( int ): the current time step\n",
      "        dirname0 ( string ): Name of the temporary directory where data will be stored \n",
      "            for the case without SOC \n",
      "        dirname1 ( string ): Name of the temporary directory where data will be stored \n",
      "            for the case with SOC\n",
      "\n"
     ]
    }
   ],
   "source": [
    "help(QE_methods.run_qe)"
   ]
  },
  {
   "cell_type": "code",
   "execution_count": 10,
   "metadata": {},
   "outputs": [
    {
     "name": "stdout",
     "output_type": "stream",
     "text": [
      "/projects/academic/cyberwksp21/Instructors_material/alexeyak/qe/ex6\r\n"
     ]
    }
   ],
   "source": [
    "!pwd"
   ]
  },
  {
   "cell_type": "code",
   "execution_count": 11,
   "metadata": {},
   "outputs": [
    {
     "name": "stdout",
     "output_type": "stream",
     "text": [
      "The time to run the QE calculations =  0.01\n"
     ]
    }
   ],
   "source": [
    "os.chdir(\"wd\")\n",
    "QE_methods.run_qe(params, 0, \"res\", \"res2\")\n",
    "os.chdir(\"../\")"
   ]
  },
  {
   "cell_type": "markdown",
   "metadata": {},
   "source": [
    "<a name=\"topic-2\"></a>\n",
    "### 2. read_qe_schema(filename, verbose=0)\n",
    "\n",
    "Can be used to read the information about the completed run"
   ]
  },
  {
   "cell_type": "code",
   "execution_count": 12,
   "metadata": {},
   "outputs": [
    {
     "data": {
      "text/plain": [
       "'/projects/academic/cyberwksp21/Instructors_material/alexeyak/qe/ex6'"
      ]
     },
     "execution_count": 12,
     "metadata": {},
     "output_type": "execute_result"
    }
   ],
   "source": [
    "pwd"
   ]
  },
  {
   "cell_type": "code",
   "execution_count": 13,
   "metadata": {},
   "outputs": [
    {
     "name": "stdout",
     "output_type": "stream",
     "text": [
      "{'conv': 5, 'etot': -8.04731987990019, 'nbnd': 0, 'nelec': 4, 'efermi': -0.1498027412442092, 'alat': 37.79452249252, 'nat': 2, 'coords': <liblibra_core.MATRIX object at 0x2b34eca9f9d0>, 'atom_labels': ['Li', 'H'], 'forces': <liblibra_core.MATRIX object at 0x2b34eca9fb90>}\n"
     ]
    }
   ],
   "source": [
    "info = QE_methods.read_qe_schema(\"wd/res/x0.save/data-file-schema.xml\", verbose=0)\n",
    "print(info)"
   ]
  },
  {
   "cell_type": "code",
   "execution_count": 14,
   "metadata": {},
   "outputs": [
    {
     "name": "stdout",
     "output_type": "stream",
     "text": [
      "Atom 0 \t Li \t          x=0.00000, y=0.00000, z=0.00000          fx=0.00000, fy=0.00000, fz=0.00000\n",
      "Atom 1 \t H \t          x=2.83459, y=0.00000, z=0.00000          fx=0.00000, fy=0.00000, fz=0.00000\n"
     ]
    }
   ],
   "source": [
    "nat = info[\"nat\"]\n",
    "R, F = info[\"coords\"], info[\"forces\"]\n",
    "\n",
    "for at in range(nat):\n",
    "    print(F\"Atom {at} \\t {info['atom_labels'][at]} \\t\\\n",
    "          x={R.get(3*at+0):.5f}, y={R.get(3*at+1):.5f}, z={R.get(3*at+2):.5f}\\\n",
    "          fx={F.get(3*at+0):.5f}, fy={F.get(3*at+1):.5f}, fz={F.get(3*at+2):.5f}\")"
   ]
  },
  {
   "cell_type": "markdown",
   "metadata": {},
   "source": [
    "<a name=\"topic-3\"></a>\n",
    "### 3. read_qe_index(filename, orb_list, verbose=0)\n",
    "\n",
    "Is analogous to **read_qe_schema** in many regards, it just extracts a bit different info, including orbital energies.\n",
    "\n",
    "One would also need to specify which energy levels we want to extract, so one would need that info beforehands.\n",
    "\n",
    "In this example, we have just 4 electrons, so:\n",
    "\n",
    "1 - HOMO-1\n",
    "2 - HOMO \n",
    "3 - LUMO\n",
    "4 - LUMO+1\n",
    "\n",
    "Lets try just the 4 orbitals"
   ]
  },
  {
   "cell_type": "code",
   "execution_count": 15,
   "metadata": {},
   "outputs": [
    {
     "ename": "RuntimeError",
     "evalue": "wd/res/x0.export/index.xml: cannot open file",
     "output_type": "error",
     "traceback": [
      "\u001b[0;31m---------------------------------------------------------------------------\u001b[0m",
      "\u001b[0;31mRuntimeError\u001b[0m                              Traceback (most recent call last)",
      "\u001b[0;32m<ipython-input-15-59842e92042c>\u001b[0m in \u001b[0;36m<module>\u001b[0;34m\u001b[0m\n\u001b[0;32m----> 1\u001b[0;31m \u001b[0minfo2\u001b[0m\u001b[0;34m,\u001b[0m \u001b[0mall_e\u001b[0m \u001b[0;34m=\u001b[0m \u001b[0mQE_methods\u001b[0m\u001b[0;34m.\u001b[0m\u001b[0mread_qe_index\u001b[0m\u001b[0;34m(\u001b[0m\u001b[0;34m\"wd/res/x0.export/index.xml\"\u001b[0m\u001b[0;34m,\u001b[0m \u001b[0;34m[\u001b[0m\u001b[0;36m1\u001b[0m\u001b[0;34m,\u001b[0m\u001b[0;36m2\u001b[0m\u001b[0;34m,\u001b[0m\u001b[0;36m3\u001b[0m\u001b[0;34m,\u001b[0m\u001b[0;36m4\u001b[0m\u001b[0;34m]\u001b[0m\u001b[0;34m,\u001b[0m \u001b[0mverbose\u001b[0m\u001b[0;34m=\u001b[0m\u001b[0;36m1\u001b[0m\u001b[0;34m)\u001b[0m\u001b[0;34m\u001b[0m\u001b[0;34m\u001b[0m\u001b[0m\n\u001b[0m",
      "\u001b[0;32m/projects/academic/cyberwksp21/Software/Libra/_build/src/libra_py/QE_methods.py\u001b[0m in \u001b[0;36mread_qe_index\u001b[0;34m(filename, orb_list, verbose)\u001b[0m\n\u001b[1;32m    228\u001b[0m     \u001b[0mRy2Ha\u001b[0m \u001b[0;34m=\u001b[0m \u001b[0;36m0.5\u001b[0m \u001b[0;31m# conversion factor\u001b[0m\u001b[0;34m\u001b[0m\u001b[0;34m\u001b[0m\u001b[0m\n\u001b[1;32m    229\u001b[0m \u001b[0;34m\u001b[0m\u001b[0m\n\u001b[0;32m--> 230\u001b[0;31m     \u001b[0mctx\u001b[0m \u001b[0;34m=\u001b[0m \u001b[0mContext\u001b[0m\u001b[0;34m(\u001b[0m\u001b[0mfilename\u001b[0m\u001b[0;34m)\u001b[0m  \u001b[0;31m#(\"x.export/index.xml\")\u001b[0m\u001b[0;34m\u001b[0m\u001b[0;34m\u001b[0m\u001b[0m\n\u001b[0m\u001b[1;32m    231\u001b[0m     \u001b[0mctx\u001b[0m\u001b[0;34m.\u001b[0m\u001b[0mset_path_separator\u001b[0m\u001b[0;34m(\u001b[0m\u001b[0;34m\"/\"\u001b[0m\u001b[0;34m)\u001b[0m\u001b[0;34m\u001b[0m\u001b[0;34m\u001b[0m\u001b[0m\n\u001b[1;32m    232\u001b[0m     \u001b[0mprint\u001b[0m\u001b[0;34m(\u001b[0m\u001b[0;34m\"path=\"\u001b[0m\u001b[0;34m,\u001b[0m \u001b[0mctx\u001b[0m\u001b[0;34m.\u001b[0m\u001b[0mget_path\u001b[0m\u001b[0;34m(\u001b[0m\u001b[0;34m)\u001b[0m\u001b[0;34m)\u001b[0m\u001b[0;34m\u001b[0m\u001b[0;34m\u001b[0m\u001b[0m\n",
      "\u001b[0;31mRuntimeError\u001b[0m: wd/res/x0.export/index.xml: cannot open file"
     ]
    }
   ],
   "source": [
    "info2, all_e = QE_methods.read_qe_index(\"wd/res/x0.export/index.xml\", [1,2,3,4], verbose=1)"
   ]
  },
  {
   "cell_type": "code",
   "execution_count": 27,
   "metadata": {},
   "outputs": [
    {
     "name": "stdout",
     "output_type": "stream",
     "text": [
      "{'nspin': 2, 'nk': 2, 'nbnd': 10, 'efermi': -0.12376709627891, 'alat': 37.79452265771, 'omega': 8637.868266355206, 'tpiba': 0.1662459230953623, 'tpiba2': 0.02763770694582913, 'a1': <liblibra_core.VECTOR object at 0x7fae681b5df8>, 'a2': <liblibra_core.VECTOR object at 0x7fae68178500>, 'a3': <liblibra_core.VECTOR object at 0x7fae681789d0>, 'b1': <liblibra_core.VECTOR object at 0x7fae68178378>, 'b2': <liblibra_core.VECTOR object at 0x7fae68178fb8>, 'b3': <liblibra_core.VECTOR object at 0x7fae681787d8>, 'weights': [1.0, 1.0], 'k': [<liblibra_core.VECTOR object at 0x7fae68178ea0>, <liblibra_core.VECTOR object at 0x7fae68178ca8>]}\n"
     ]
    }
   ],
   "source": [
    "print( info2)"
   ]
  },
  {
   "cell_type": "code",
   "execution_count": 28,
   "metadata": {},
   "outputs": [
    {
     "name": "stdout",
     "output_type": "stream",
     "text": [
      "[<liblibra_core.CMATRIX object at 0x7fae68178dc0>, <liblibra_core.CMATRIX object at 0x7fae68178df8>]\n"
     ]
    }
   ],
   "source": [
    "print(all_e)"
   ]
  },
  {
   "cell_type": "code",
   "execution_count": 29,
   "metadata": {},
   "outputs": [],
   "source": [
    "e_alp = all_e[0]\n",
    "e_bet = all_e[1]"
   ]
  },
  {
   "cell_type": "code",
   "execution_count": 30,
   "metadata": {},
   "outputs": [
    {
     "name": "stdout",
     "output_type": "stream",
     "text": [
      "E_0^alpha =  -1.86244053 \t E_0^beta =  -1.86219594\n",
      "E_1^alpha =  -0.16462949 \t E_1^beta =  -0.16475681\n",
      "E_2^alpha =  -0.08691250 \t E_2^beta =  -0.08650036\n",
      "E_3^alpha =  -0.04025010 \t E_3^beta =  -0.04013592\n"
     ]
    }
   ],
   "source": [
    "for i in range(4):\n",
    "    print(F\"E_{i}^alpha = {e_alp.get(i,i).real:12.8f} \\t E_{i}^beta = {e_bet.get(i,i).real:12.8f}\")"
   ]
  },
  {
   "cell_type": "markdown",
   "metadata": {},
   "source": [
    "<a name=\"topic-4\"></a>\n",
    "### 4. read_qe_wfc_info(filename, verbose=0)\n",
    "\n",
    "Can be used to extract some descriptors of the wavefunctions produced"
   ]
  },
  {
   "cell_type": "code",
   "execution_count": 31,
   "metadata": {},
   "outputs": [
    {
     "name": "stdout",
     "output_type": "stream",
     "text": [
      "path= Kpoint.1\n",
      " ngw =  36889  igwx =  36889  nbnd =  10  nspin =  2  gamma_only =  F  ik =  1  nk =  2\n",
      "path= Kpoint.2\n",
      " ngw =  36889  igwx =  36889  nbnd =  10  nspin =  2  gamma_only =  F  ik =  2  nk =  2\n"
     ]
    }
   ],
   "source": [
    "wfc_info1 = QE_methods.read_qe_wfc_info(\"wd/res/x0.export/wfc.1\", verbose=1)\n",
    "wfc_info2 = QE_methods.read_qe_wfc_info(\"wd/res/x0.export/wfc.2\", verbose=1)"
   ]
  },
  {
   "cell_type": "code",
   "execution_count": 32,
   "metadata": {},
   "outputs": [
    {
     "name": "stdout",
     "output_type": "stream",
     "text": [
      "{'ngw': 36889, 'igwx': 36889, 'nbnd': 10, 'nspin': 2, 'gamma_only': 'F', 'ik': 1, 'nk': 2}\n",
      "{'ngw': 36889, 'igwx': 36889, 'nbnd': 10, 'nspin': 2, 'gamma_only': 'F', 'ik': 2, 'nk': 2}\n"
     ]
    }
   ],
   "source": [
    "print(wfc_info1)\n",
    "print(wfc_info2)"
   ]
  },
  {
   "cell_type": "markdown",
   "metadata": {},
   "source": [
    "<a name=\"topic-5\"></a>\n",
    "### 5. read_qe_wfc(filename, orb_list, verbose=0)\n",
    "\n",
    "Can be used to read in the actual wavefunctions produced"
   ]
  },
  {
   "cell_type": "code",
   "execution_count": 33,
   "metadata": {},
   "outputs": [
    {
     "name": "stdout",
     "output_type": "stream",
     "text": [
      "path= Kpoint.1\n",
      "path= Kpoint.1\n",
      "path= Kpoint.2\n",
      "path= Kpoint.2\n"
     ]
    }
   ],
   "source": [
    "alpha = QE_methods.read_qe_wfc(\"wd/res/x0.export/wfc.1\", [1,2,3,4], verbose=0)\n",
    "beta = QE_methods.read_qe_wfc(\"wd/res/x0.export/wfc.2\", [1,2,3,4], verbose=0)"
   ]
  },
  {
   "cell_type": "code",
   "execution_count": 34,
   "metadata": {},
   "outputs": [
    {
     "name": "stdout",
     "output_type": "stream",
     "text": [
      "<liblibra_core.CMATRIX object at 0x7fae6817b340>\n",
      "36889 4\n",
      "<liblibra_core.CMATRIX object at 0x7fae3ffb3730>\n",
      "36889 4\n"
     ]
    }
   ],
   "source": [
    "print(alpha)\n",
    "print(alpha.num_of_rows, alpha.num_of_cols)\n",
    "\n",
    "print(beta)\n",
    "print(beta.num_of_rows, beta.num_of_cols)"
   ]
  },
  {
   "cell_type": "markdown",
   "metadata": {},
   "source": [
    "Orthogonality and normalization\n",
    "\n",
    "Below we can see that MO overlaps <alpha(i)|alpha(j)> are almost orthonormal - the diagonal elements are coorectly 1.0\n",
    "\n",
    "But the off-diagonal elements are not quite 0.0\n",
    "\n",
    "Same is true for <beta(i)|beta(j)> \n",
    "\n",
    "However, there is no any expectation about the orthogonality or normalization across the two sets"
   ]
  },
  {
   "cell_type": "code",
   "execution_count": 35,
   "metadata": {},
   "outputs": [],
   "source": [
    "S_aa = alpha.H() * alpha\n",
    "S_bb = beta.H() * beta\n",
    "S_ab = alpha.H() * beta"
   ]
  },
  {
   "cell_type": "code",
   "execution_count": 36,
   "metadata": {},
   "outputs": [
    {
     "name": "stdout",
     "output_type": "stream",
     "text": [
      "S_aa\n",
      " 1.00000  -0.08150  -0.04761   0.03307  \n",
      "-0.08150   1.00000   0.03712  -0.02467  \n",
      "-0.04761   0.03712   1.00000  -0.01177  \n",
      " 0.03307  -0.02467  -0.01177   1.00000  \n",
      "S_bb\n",
      " 1.00000  -0.08093  -0.04785   0.03336  \n",
      "-0.08093   1.00000   0.03755  -0.02485  \n",
      "-0.04785   0.03755   1.00000  -0.01246  \n",
      " 0.03336  -0.02485  -0.01246   1.00000  \n",
      "S_ab\n",
      " 0.17301  -0.01049  -0.00412   0.00214  \n",
      "-0.01635   0.15735   0.00452  -0.00236  \n",
      "-0.00102  -0.00083  -0.06732   0.00139  \n",
      " 0.01173  -0.00747  -0.00248   0.24420  \n"
     ]
    }
   ],
   "source": [
    "def print_mat(X):\n",
    "    nr, nc = X.num_of_rows, X.num_of_cols\n",
    "    for i in range(nr):\n",
    "    \n",
    "        line = \"\"\n",
    "        for j in range(nc):\n",
    "        \n",
    "            line = line + \"%8.5f  \" % (X.get(i,j).real)\n",
    "        print(line)\n",
    "\n",
    "print(\"S_aa\")\n",
    "print_mat(S_aa)\n",
    "\n",
    "print(\"S_bb\")\n",
    "print_mat(S_bb)\n",
    "\n",
    "print(\"S_ab\")\n",
    "print_mat(S_ab)"
   ]
  },
  {
   "cell_type": "markdown",
   "metadata": {},
   "source": [
    "<a name=\"topic-6\"></a>\n",
    "### 6. QE_utils.orthogonalize_orbitals(C)\n",
    "Can be used to orthogonalize orbitals if they are not.\n",
    "\n",
    "So lets transform alpha and beta orbitals such they are now orthonormal within each set.\n",
    "\n",
    "The resulting orbitals are not orthonormal across the two sets still  "
   ]
  },
  {
   "cell_type": "code",
   "execution_count": 37,
   "metadata": {
    "scrolled": false
   },
   "outputs": [
    {
     "name": "stdout",
     "output_type": "stream",
     "text": [
      "\n",
      "Testing if S is invertabile\n",
      "\n",
      "[4, 1]\n",
      "Det =  (0.9881907434095535-8.072456740942809e-20j)\n",
      "\n",
      "Testing if S is invertabile\n",
      "\n",
      "[4, 1]\n",
      "Det =  (0.9883023952546621+8.762301957458487e-20j)\n",
      "S_aa\n",
      " 1.00000   0.00000   0.00000  -0.00000  \n",
      " 0.00000   1.00000  -0.00000   0.00000  \n",
      " 0.00000  -0.00000   1.00000   0.00000  \n",
      "-0.00000   0.00000   0.00000   1.00000  \n",
      "S_bb\n",
      " 1.00000  -0.00000   0.00000   0.00000  \n",
      "-0.00000   1.00000  -0.00000   0.00000  \n",
      " 0.00000  -0.00000   1.00000  -0.00000  \n",
      " 0.00000   0.00000  -0.00000   1.00000  \n",
      "S_ab\n",
      " 0.17301   0.00000  -0.00001   0.00000  \n",
      "-0.00001   0.15735   0.00024  -0.00006  \n",
      "-0.00001   0.00005  -0.06733   0.00028  \n",
      " 0.00002   0.00017   0.00083   0.24420  \n"
     ]
    }
   ],
   "source": [
    "alp = QE_utils.orthogonalize_orbitals(alpha)\n",
    "bet = QE_utils.orthogonalize_orbitals(beta)\n",
    "\n",
    "S_aa = alp.H() * alp\n",
    "S_bb = bet.H() * bet\n",
    "S_ab = alp.H() * bet\n",
    "\n",
    "print(\"S_aa\")\n",
    "print_mat(S_aa)\n",
    "\n",
    "print(\"S_bb\")\n",
    "print_mat(S_bb)\n",
    "\n",
    "print(\"S_ab\")\n",
    "print_mat(S_ab)"
   ]
  },
  {
   "cell_type": "markdown",
   "metadata": {},
   "source": [
    "<a name=\"topic-7\"></a>\n",
    "### 7. QE_utils.merge_orbitals(Ca, Cb)\n",
    "\n",
    "Sometimes (usually in the non-collinear case), we want to have a single set of orbitals (many are nearly doubly degenerate), not just alpha and beta components. We can prepare the single set from the spinor components using this function. In this example, we just gonna mimic non-collinear SOC calculations, pretending that alpha and beta orbital sets are the spinor components. \n"
   ]
  },
  {
   "cell_type": "code",
   "execution_count": 38,
   "metadata": {},
   "outputs": [
    {
     "name": "stdout",
     "output_type": "stream",
     "text": [
      " 1.00000  -0.08150  -0.04761   0.03307   0.17301  -0.01049  -0.00412   0.00214  \n",
      "-0.08150   1.00000   0.03712  -0.02467  -0.01635   0.15735   0.00452  -0.00236  \n",
      "-0.04761   0.03712   1.00000  -0.01177  -0.00102  -0.00083  -0.06732   0.00139  \n",
      " 0.03307  -0.02467  -0.01177   1.00000   0.01173  -0.00747  -0.00248   0.24420  \n",
      " 0.17301  -0.01635  -0.00102   0.01173   1.00000  -0.08093  -0.04785   0.03336  \n",
      "-0.01049   0.15735  -0.00083  -0.00747  -0.08093   1.00000   0.03755  -0.02485  \n",
      "-0.00412   0.00452  -0.06732  -0.00248  -0.04785   0.03755   1.00000  -0.01246  \n",
      " 0.00214  -0.00236   0.00139   0.24420   0.03336  -0.02485  -0.01246   1.00000  \n"
     ]
    }
   ],
   "source": [
    "C = QE_utils.merge_orbitals(alpha, beta)\n",
    "\n",
    "S = C.H() * C\n",
    "print_mat(S)"
   ]
  },
  {
   "cell_type": "markdown",
   "metadata": {},
   "source": [
    "<a name=\"topic-8\"></a>\n",
    "### 8. QE_utils.orthogonalize_orbitals2(Ca, Cb)\n",
    "\n",
    "This is a special orthogonalization procedure - the one for 2-component spinors. The inputs are assumed to be the components for each orbital. The orthogonalization works such that it is S_aa + S_bb = I"
   ]
  },
  {
   "cell_type": "code",
   "execution_count": 39,
   "metadata": {},
   "outputs": [
    {
     "name": "stdout",
     "output_type": "stream",
     "text": [
      "path= Kpoint.1\n",
      "path= Kpoint.1\n",
      "path= Kpoint.2\n",
      "path= Kpoint.2\n"
     ]
    }
   ],
   "source": [
    "alpha = QE_methods.read_qe_wfc(\"wd/res/x0.export/wfc.1\", [1,2,3,4], verbose=0)\n",
    "beta = QE_methods.read_qe_wfc(\"wd/res/x0.export/wfc.2\", [1,2,3,4], verbose=0)"
   ]
  },
  {
   "cell_type": "code",
   "execution_count": 40,
   "metadata": {},
   "outputs": [
    {
     "name": "stdout",
     "output_type": "stream",
     "text": [
      "S_aa\n",
      " 0.49999  -0.00014   0.00006  -0.00007  \n",
      "-0.00014   0.49999  -0.00010   0.00004  \n",
      " 0.00006  -0.00010   0.50000   0.00016  \n",
      "-0.00007   0.00004   0.00016   0.50000  \n",
      "S_bb\n",
      " 0.50001   0.00014  -0.00006   0.00007  \n",
      " 0.00014   0.50001   0.00010  -0.00004  \n",
      "-0.00006   0.00010   0.50000  -0.00016  \n",
      " 0.00007  -0.00004  -0.00016   0.50000  \n",
      "S_aa + S_bb\n",
      " 1.00000  -0.00000   0.00000  -0.00000  \n",
      "-0.00000   1.00000  -0.00000   0.00000  \n",
      " 0.00000  -0.00000   1.00000   0.00000  \n",
      "-0.00000   0.00000   0.00000   1.00000  \n",
      "S_ab\n",
      " 0.08657  -0.00003   0.00001   0.00004  \n",
      "-0.00005   0.07869   0.00008  -0.00006  \n",
      " 0.00003  -0.00004  -0.03377   0.00018  \n",
      " 0.00004   0.00006   0.00040   0.12212  \n"
     ]
    }
   ],
   "source": [
    "alp, bet = QE_utils.orthogonalize_orbitals2(alpha, beta)\n",
    "\n",
    "S_aa = alp.H() * alp\n",
    "S_bb = bet.H() * bet\n",
    "print(\"S_aa\")\n",
    "print_mat(S_aa)\n",
    "\n",
    "print(\"S_bb\")\n",
    "print_mat(S_bb)\n",
    "\n",
    "print(\"S_aa + S_bb\")\n",
    "print_mat(S_aa + S_bb)\n",
    "\n",
    "S_ab = alp.H() * bet\n",
    "print(\"S_ab\")\n",
    "print_mat(S_ab)\n"
   ]
  },
  {
   "cell_type": "markdown",
   "metadata": {},
   "source": [
    "<a name=\"topic-9\"></a>\n",
    "### 9. read_qe_wfc_grid(filename, verbose=0)\n",
    "\n",
    "Can be used to read the grid points for the given PW representation."
   ]
  },
  {
   "cell_type": "code",
   "execution_count": 41,
   "metadata": {},
   "outputs": [
    {
     "name": "stdout",
     "output_type": "stream",
     "text": [
      "path= Kpoint.1\n"
     ]
    }
   ],
   "source": [
    "G1 = QE_methods.read_qe_wfc_grid(\"wd/res/x0.export/grid.1\", verbose=0)"
   ]
  },
  {
   "cell_type": "code",
   "execution_count": 42,
   "metadata": {},
   "outputs": [
    {
     "name": "stdout",
     "output_type": "stream",
     "text": [
      "36889\n"
     ]
    }
   ],
   "source": [
    "print(len(G1))"
   ]
  },
  {
   "cell_type": "code",
   "execution_count": 43,
   "metadata": {},
   "outputs": [
    {
     "name": "stdout",
     "output_type": "stream",
     "text": [
      "0 \t 0.0 \t 0.0 \t 0.0\n",
      "1 \t -1.0 \t 0.0 \t 0.0\n",
      "2 \t 1.0 \t 0.0 \t 0.0\n",
      "3 \t -2.0 \t 0.0 \t 0.0\n",
      "4 \t 2.0 \t 0.0 \t 0.0\n",
      "5 \t 0.0 \t -1.0 \t 0.0\n",
      "6 \t 0.0 \t 0.0 \t -1.0\n",
      "7 \t 0.0 \t 0.0 \t 1.0\n",
      "8 \t 0.0 \t 1.0 \t 0.0\n",
      "9 \t -1.0 \t -1.0 \t 0.0\n"
     ]
    }
   ],
   "source": [
    "for i in range(10):\n",
    "    print(F\"{i} \\t {G1[i].x} \\t {G1[i].y} \\t {G1[i].z}\")"
   ]
  }
 ],
 "metadata": {
  "kernelspec": {
   "display_name": "Python 3.6 (libra-latest)",
   "language": "python",
   "name": "libra"
  },
  "language_info": {
   "codemirror_mode": {
    "name": "ipython",
    "version": 3
   },
   "file_extension": ".py",
   "mimetype": "text/x-python",
   "name": "python",
   "nbconvert_exporter": "python",
   "pygments_lexer": "ipython3",
   "version": "3.6.13"
  }
 },
 "nbformat": 4,
 "nbformat_minor": 2
}
